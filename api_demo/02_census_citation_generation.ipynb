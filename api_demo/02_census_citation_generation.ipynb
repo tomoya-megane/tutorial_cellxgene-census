{
 "cells": [
  {
   "cell_type": "markdown",
   "id": "88812eae-6b46-48b4-a1e4-c468657d8480",
   "metadata": {},
   "source": [
    "# Generating citations for Census slices\n",
    "\n",
    "This notebook demonstrates how to generate a citation string for all datasets contained in a Census slice.\n",
    "\n",
    "**Contents**\n",
    "\n",
    "1. Requirements\n",
    "1. Generating citation strings\n",
    "   1. Via cell metadata query\n",
    "   1. Via an AnnData query \n",
    "\n",
    "⚠️ Note that the Census RNA data includes duplicate cells present across multiple datasets. Duplicate cells can be filtered in or out using the cell metadata variable `is_primary_data` which is described in the [Census schema](https://github.com/chanzuckerberg/cellxgene-census/blob/main/docs/cellxgene_census_schema.md#repeated-data).\n",
    "\n",
    "## Requirements\n",
    "\n",
    "This notebook requires:\n",
    "\n",
    "- `cellxgene_census` Python package.\n",
    "- Census data release with [schema version](https://github.com/chanzuckerberg/cellxgene-census/blob/main/docs/cellxgene_census_schema.md) 1.3.0 or greater.\n",
    "\n",
    "## Generating citation strings\n",
    "\n",
    "First we open a handle to the Census data. To ensure we open a data release with schema version 1.3.0 or greater, we use `census_version=\"latest\"`"
   ]
  },
  {
   "cell_type": "code",
   "execution_count": 1,
   "id": "895f4073-ef32-43ec-a529-90b3f70f59f9",
   "metadata": {},
   "outputs": [],
   "source": [
    "import cellxgene_census"
   ]
  },
  {
   "cell_type": "code",
   "execution_count": 2,
   "id": "cb045d8c-b4bf-4b0e-9c68-887aff8507a8",
   "metadata": {},
   "outputs": [],
   "source": [
    "census = cellxgene_census.open_soma(census_version=\"latest\")"
   ]
  },
  {
   "cell_type": "code",
   "execution_count": 3,
   "id": "9a5a5a92-3d78-4542-95a5-e6889f245491",
   "metadata": {},
   "outputs": [
    {
     "data": {
      "text/html": [
       "<div>\n",
       "<style scoped>\n",
       "    .dataframe tbody tr th:only-of-type {\n",
       "        vertical-align: middle;\n",
       "    }\n",
       "\n",
       "    .dataframe tbody tr th {\n",
       "        vertical-align: top;\n",
       "    }\n",
       "\n",
       "    .dataframe thead th {\n",
       "        text-align: right;\n",
       "    }\n",
       "</style>\n",
       "<table border=\"1\" class=\"dataframe\">\n",
       "  <thead>\n",
       "    <tr style=\"text-align: right;\">\n",
       "      <th></th>\n",
       "      <th>soma_joinid</th>\n",
       "      <th>label</th>\n",
       "      <th>value</th>\n",
       "    </tr>\n",
       "  </thead>\n",
       "  <tbody>\n",
       "    <tr>\n",
       "      <th>0</th>\n",
       "      <td>0</td>\n",
       "      <td>census_schema_version</td>\n",
       "      <td>2.1.0</td>\n",
       "    </tr>\n",
       "    <tr>\n",
       "      <th>1</th>\n",
       "      <td>1</td>\n",
       "      <td>census_build_date</td>\n",
       "      <td>2024-07-29</td>\n",
       "    </tr>\n",
       "    <tr>\n",
       "      <th>2</th>\n",
       "      <td>2</td>\n",
       "      <td>dataset_schema_version</td>\n",
       "      <td>5.1.0</td>\n",
       "    </tr>\n",
       "    <tr>\n",
       "      <th>3</th>\n",
       "      <td>3</td>\n",
       "      <td>total_cell_count</td>\n",
       "      <td>118836776</td>\n",
       "    </tr>\n",
       "    <tr>\n",
       "      <th>4</th>\n",
       "      <td>4</td>\n",
       "      <td>unique_cell_count</td>\n",
       "      <td>62904117</td>\n",
       "    </tr>\n",
       "    <tr>\n",
       "      <th>5</th>\n",
       "      <td>5</td>\n",
       "      <td>number_donors_homo_sapiens</td>\n",
       "      <td>18138</td>\n",
       "    </tr>\n",
       "    <tr>\n",
       "      <th>6</th>\n",
       "      <td>6</td>\n",
       "      <td>number_donors_mus_musculus</td>\n",
       "      <td>4640</td>\n",
       "    </tr>\n",
       "  </tbody>\n",
       "</table>\n",
       "</div>"
      ],
      "text/plain": [
       "   soma_joinid                       label       value\n",
       "0            0       census_schema_version       2.1.0\n",
       "1            1           census_build_date  2024-07-29\n",
       "2            2      dataset_schema_version       5.1.0\n",
       "3            3            total_cell_count   118836776\n",
       "4            4           unique_cell_count    62904117\n",
       "5            5  number_donors_homo_sapiens       18138\n",
       "6            6  number_donors_mus_musculus        4640"
      ]
     },
     "execution_count": 3,
     "metadata": {},
     "output_type": "execute_result"
    }
   ],
   "source": [
    "census[\"census_info\"][\"summary\"].read().concat().to_pandas()"
   ]
  },
  {
   "cell_type": "markdown",
   "id": "23174644-7804-4723-a4ab-c5cf75bdd954",
   "metadata": {},
   "source": [
    "Then we load the dataset table which contains a column `\"citation\"` for each dataset included in Census. "
   ]
  },
  {
   "cell_type": "code",
   "execution_count": 4,
   "id": "21d7c402-fd61-48c7-9829-f2863666d7fe",
   "metadata": {},
   "outputs": [],
   "source": [
    "datasets = census[\"census_info\"][\"datasets\"].read().concat().to_pandas()"
   ]
  },
  {
   "cell_type": "code",
   "execution_count": 6,
   "id": "d47b636a-d653-4e3b-b139-14b6ca697ce8",
   "metadata": {},
   "outputs": [
    {
     "data": {
      "text/plain": [
       "0    Publication: https://doi.org/10.1002/hep4.1854...\n",
       "1    Publication: https://doi.org/10.1126/sciimmuno...\n",
       "2    Publication: https://doi.org/10.1038/s41593-02...\n",
       "3    Publication: https://doi.org/10.1038/s41467-02...\n",
       "4    Publication: https://doi.org/10.1038/s41590-02...\n",
       "Name: citation, dtype: object"
      ]
     },
     "execution_count": 6,
     "metadata": {},
     "output_type": "execute_result"
    }
   ],
   "source": [
    "datasets[\"citation\"].head()"
   ]
  },
  {
   "cell_type": "markdown",
   "id": "b0257f5f-276f-437c-84d5-67be6613aa68",
   "metadata": {},
   "source": [
    "For cross-ref style citations you can look at the column `\"collection_doi_label\"`"
   ]
  },
  {
   "cell_type": "code",
   "execution_count": 7,
   "id": "f7003596-f614-4943-8dfb-f221ef5030d8",
   "metadata": {},
   "outputs": [
    {
     "data": {
      "text/plain": [
       "0    Andrews et al. (2022) Hepatology Communications\n",
       "1                   King et al. (2021) Sci. Immunol.\n",
       "2                    Leng et al. (2021) Nat Neurosci\n",
       "3          Rodríguez-Ubreva et al. (2022) Nat Commun\n",
       "4                   Triana et al. (2021) Nat Immunol\n",
       "Name: collection_doi_label, dtype: object"
      ]
     },
     "execution_count": 7,
     "metadata": {},
     "output_type": "execute_result"
    }
   ],
   "source": [
    "datasets[\"collection_doi_label\"].head()"
   ]
  },
  {
   "cell_type": "code",
   "execution_count": 8,
   "id": "23420188-3a98-46f3-a3e9-673cbbee9bee",
   "metadata": {},
   "outputs": [
    {
     "data": {
      "text/html": [
       "<div>\n",
       "<style scoped>\n",
       "    .dataframe tbody tr th:only-of-type {\n",
       "        vertical-align: middle;\n",
       "    }\n",
       "\n",
       "    .dataframe tbody tr th {\n",
       "        vertical-align: top;\n",
       "    }\n",
       "\n",
       "    .dataframe thead th {\n",
       "        text-align: right;\n",
       "    }\n",
       "</style>\n",
       "<table border=\"1\" class=\"dataframe\">\n",
       "  <thead>\n",
       "    <tr style=\"text-align: right;\">\n",
       "      <th></th>\n",
       "      <th>soma_joinid</th>\n",
       "      <th>citation</th>\n",
       "      <th>collection_id</th>\n",
       "      <th>collection_name</th>\n",
       "      <th>collection_doi</th>\n",
       "      <th>collection_doi_label</th>\n",
       "      <th>dataset_id</th>\n",
       "      <th>dataset_version_id</th>\n",
       "      <th>dataset_title</th>\n",
       "      <th>dataset_h5ad_path</th>\n",
       "      <th>dataset_total_cell_count</th>\n",
       "    </tr>\n",
       "  </thead>\n",
       "  <tbody>\n",
       "    <tr>\n",
       "      <th>0</th>\n",
       "      <td>0</td>\n",
       "      <td>Publication: https://doi.org/10.1002/hep4.1854...</td>\n",
       "      <td>44531dd9-1388-4416-a117-af0a99de2294</td>\n",
       "      <td>Single-Cell, Single-Nucleus, and Spatial RNA S...</td>\n",
       "      <td>10.1002/hep4.1854</td>\n",
       "      <td>Andrews et al. (2022) Hepatology Communications</td>\n",
       "      <td>0895c838-e550-48a3-a777-dbcd35d30272</td>\n",
       "      <td>aaab3abd-624a-442e-b62b-3f2edb10b45e</td>\n",
       "      <td>Healthy human liver: B cells</td>\n",
       "      <td>0895c838-e550-48a3-a777-dbcd35d30272.h5ad</td>\n",
       "      <td>146</td>\n",
       "    </tr>\n",
       "    <tr>\n",
       "      <th>1</th>\n",
       "      <td>1</td>\n",
       "      <td>Publication: https://doi.org/10.1126/sciimmuno...</td>\n",
       "      <td>3a2af25b-2338-4266-aad3-aa8d07473f50</td>\n",
       "      <td>Single-cell analysis of human B cell maturatio...</td>\n",
       "      <td>10.1126/sciimmunol.abe6291</td>\n",
       "      <td>King et al. (2021) Sci. Immunol.</td>\n",
       "      <td>00ff600e-6e2e-4d76-846f-0eec4f0ae417</td>\n",
       "      <td>50c1d621-995d-4386-9fcb-5c70fcdf8d66</td>\n",
       "      <td>Human tonsil nonlymphoid cells scRNA</td>\n",
       "      <td>00ff600e-6e2e-4d76-846f-0eec4f0ae417.h5ad</td>\n",
       "      <td>363</td>\n",
       "    </tr>\n",
       "    <tr>\n",
       "      <th>2</th>\n",
       "      <td>2</td>\n",
       "      <td>Publication: https://doi.org/10.1038/s41593-02...</td>\n",
       "      <td>180bff9c-c8a5-4539-b13b-ddbc00d643e6</td>\n",
       "      <td>Molecular characterization of selectively vuln...</td>\n",
       "      <td>10.1038/s41593-020-00764-7</td>\n",
       "      <td>Leng et al. (2021) Nat Neurosci</td>\n",
       "      <td>bdacc907-7c26-419f-8808-969eab3ca2e8</td>\n",
       "      <td>e95b54b1-8656-4fe8-9f53-6fdd97f397ba</td>\n",
       "      <td>Molecular characterization of selectively vuln...</td>\n",
       "      <td>bdacc907-7c26-419f-8808-969eab3ca2e8.h5ad</td>\n",
       "      <td>3799</td>\n",
       "    </tr>\n",
       "    <tr>\n",
       "      <th>3</th>\n",
       "      <td>3</td>\n",
       "      <td>Publication: https://doi.org/10.1038/s41467-02...</td>\n",
       "      <td>bf325905-5e8e-42e3-933d-9a9053e9af80</td>\n",
       "      <td>Single-cell Atlas of common variable immunodef...</td>\n",
       "      <td>10.1038/s41467-022-29450-x</td>\n",
       "      <td>Rodríguez-Ubreva et al. (2022) Nat Commun</td>\n",
       "      <td>a5d95a42-0137-496f-8a60-101e17f263c8</td>\n",
       "      <td>d6e742c5-f6e5-42f4-8064-622783542f6b</td>\n",
       "      <td>Steady-state B cells - scRNA-seq</td>\n",
       "      <td>a5d95a42-0137-496f-8a60-101e17f263c8.h5ad</td>\n",
       "      <td>1324</td>\n",
       "    </tr>\n",
       "    <tr>\n",
       "      <th>4</th>\n",
       "      <td>4</td>\n",
       "      <td>Publication: https://doi.org/10.1038/s41590-02...</td>\n",
       "      <td>93eebe82-d8c3-41bc-a906-63b5b5f24a9d</td>\n",
       "      <td>Single-cell proteo-genomic reference maps of t...</td>\n",
       "      <td>10.1038/s41590-021-01059-0</td>\n",
       "      <td>Triana et al. (2021) Nat Immunol</td>\n",
       "      <td>d3566d6a-a455-4a15-980f-45eb29114cab</td>\n",
       "      <td>61f15353-e598-43b5-bb5a-80ac44a0cf0b</td>\n",
       "      <td>blood and bone marrow from a healthy young donor</td>\n",
       "      <td>d3566d6a-a455-4a15-980f-45eb29114cab.h5ad</td>\n",
       "      <td>15502</td>\n",
       "    </tr>\n",
       "  </tbody>\n",
       "</table>\n",
       "</div>"
      ],
      "text/plain": [
       "   soma_joinid                                           citation  \\\n",
       "0            0  Publication: https://doi.org/10.1002/hep4.1854...   \n",
       "1            1  Publication: https://doi.org/10.1126/sciimmuno...   \n",
       "2            2  Publication: https://doi.org/10.1038/s41593-02...   \n",
       "3            3  Publication: https://doi.org/10.1038/s41467-02...   \n",
       "4            4  Publication: https://doi.org/10.1038/s41590-02...   \n",
       "\n",
       "                          collection_id  \\\n",
       "0  44531dd9-1388-4416-a117-af0a99de2294   \n",
       "1  3a2af25b-2338-4266-aad3-aa8d07473f50   \n",
       "2  180bff9c-c8a5-4539-b13b-ddbc00d643e6   \n",
       "3  bf325905-5e8e-42e3-933d-9a9053e9af80   \n",
       "4  93eebe82-d8c3-41bc-a906-63b5b5f24a9d   \n",
       "\n",
       "                                     collection_name  \\\n",
       "0  Single-Cell, Single-Nucleus, and Spatial RNA S...   \n",
       "1  Single-cell analysis of human B cell maturatio...   \n",
       "2  Molecular characterization of selectively vuln...   \n",
       "3  Single-cell Atlas of common variable immunodef...   \n",
       "4  Single-cell proteo-genomic reference maps of t...   \n",
       "\n",
       "               collection_doi  \\\n",
       "0           10.1002/hep4.1854   \n",
       "1  10.1126/sciimmunol.abe6291   \n",
       "2  10.1038/s41593-020-00764-7   \n",
       "3  10.1038/s41467-022-29450-x   \n",
       "4  10.1038/s41590-021-01059-0   \n",
       "\n",
       "                              collection_doi_label  \\\n",
       "0  Andrews et al. (2022) Hepatology Communications   \n",
       "1                 King et al. (2021) Sci. Immunol.   \n",
       "2                  Leng et al. (2021) Nat Neurosci   \n",
       "3        Rodríguez-Ubreva et al. (2022) Nat Commun   \n",
       "4                 Triana et al. (2021) Nat Immunol   \n",
       "\n",
       "                             dataset_id                    dataset_version_id  \\\n",
       "0  0895c838-e550-48a3-a777-dbcd35d30272  aaab3abd-624a-442e-b62b-3f2edb10b45e   \n",
       "1  00ff600e-6e2e-4d76-846f-0eec4f0ae417  50c1d621-995d-4386-9fcb-5c70fcdf8d66   \n",
       "2  bdacc907-7c26-419f-8808-969eab3ca2e8  e95b54b1-8656-4fe8-9f53-6fdd97f397ba   \n",
       "3  a5d95a42-0137-496f-8a60-101e17f263c8  d6e742c5-f6e5-42f4-8064-622783542f6b   \n",
       "4  d3566d6a-a455-4a15-980f-45eb29114cab  61f15353-e598-43b5-bb5a-80ac44a0cf0b   \n",
       "\n",
       "                                       dataset_title  \\\n",
       "0                       Healthy human liver: B cells   \n",
       "1               Human tonsil nonlymphoid cells scRNA   \n",
       "2  Molecular characterization of selectively vuln...   \n",
       "3                   Steady-state B cells - scRNA-seq   \n",
       "4   blood and bone marrow from a healthy young donor   \n",
       "\n",
       "                           dataset_h5ad_path  dataset_total_cell_count  \n",
       "0  0895c838-e550-48a3-a777-dbcd35d30272.h5ad                       146  \n",
       "1  00ff600e-6e2e-4d76-846f-0eec4f0ae417.h5ad                       363  \n",
       "2  bdacc907-7c26-419f-8808-969eab3ca2e8.h5ad                      3799  \n",
       "3  a5d95a42-0137-496f-8a60-101e17f263c8.h5ad                      1324  \n",
       "4  d3566d6a-a455-4a15-980f-45eb29114cab.h5ad                     15502  "
      ]
     },
     "execution_count": 8,
     "metadata": {},
     "output_type": "execute_result"
    }
   ],
   "source": [
    "datasets.head()"
   ]
  },
  {
   "cell_type": "markdown",
   "id": "06adfa4a-3656-4f26-9adf-ba28eb2f691e",
   "metadata": {},
   "source": [
    "And now we can use the column `\"dataset_id\"` present in both the dataset table and the Census cell metadata to create citation strings for any Census slice.\n",
    "\n",
    "### Via cell metadata query"
   ]
  },
  {
   "cell_type": "code",
   "execution_count": 9,
   "id": "848656b9-eb95-4f6c-8849-77473dc54d19",
   "metadata": {},
   "outputs": [],
   "source": [
    "# Query cell metadata\n",
    "cell_metadata = cellxgene_census.get_obs(\n",
    "    census, \"homo_sapiens\",\n",
    "    value_filter=\"tissue == 'cardiac atrium'\",\n",
    "    column_names=[\"dataset_id\", \"cell_type\"]\n",
    ")"
   ]
  },
  {
   "cell_type": "code",
   "execution_count": 10,
   "id": "edade7db-e44c-4fec-a15f-6231edd8e321",
   "metadata": {},
   "outputs": [],
   "source": [
    "# Get a citation string for the slice\n",
    "slice_datasets = datasets[datasets[\"dataset_id\"].isin(cell_metadata[\"dataset_id\"])]"
   ]
  },
  {
   "cell_type": "code",
   "execution_count": 11,
   "id": "f7edf4a7-8394-4df2-9dde-b24efcd6dbe0",
   "metadata": {},
   "outputs": [
    {
     "name": "stdout",
     "output_type": "stream",
     "text": [
      "Publication: https://doi.org/10.1126/science.abl4896 Dataset Version: https://datasets.cellxgene.cziscience.com/3149e7d3-1ae4-4b59-a54b-73e9f591b699.h5ad curated and distributed by CZ CELLxGENE Discover in Collection: https://cellxgene.cziscience.com/collections/e5f58829-1a66-40b5-a624-9046778e74f5\n",
      "\n",
      "Publication: https://doi.org/10.1126/science.abl4896 Dataset Version: https://datasets.cellxgene.cziscience.com/dbcbe0a6-918a-4440-9a56-6d03f0f22df5.h5ad curated and distributed by CZ CELLxGENE Discover in Collection: https://cellxgene.cziscience.com/collections/e5f58829-1a66-40b5-a624-9046778e74f5\n",
      "\n",
      "Publication: https://doi.org/10.1126/science.abl4896 Dataset Version: https://datasets.cellxgene.cziscience.com/07900e47-7ab4-48d4-a26e-abdd010f4bbf.h5ad curated and distributed by CZ CELLxGENE Discover in Collection: https://cellxgene.cziscience.com/collections/e5f58829-1a66-40b5-a624-9046778e74f5\n",
      "\n",
      "Publication: https://doi.org/10.1126/science.abl4896 Dataset Version: https://datasets.cellxgene.cziscience.com/50a18e6a-797b-40bd-aa07-6ed50a1f2cf6.h5ad curated and distributed by CZ CELLxGENE Discover in Collection: https://cellxgene.cziscience.com/collections/e5f58829-1a66-40b5-a624-9046778e74f5\n",
      "\n",
      "Publication: https://doi.org/10.1126/science.abl4896 Dataset Version: https://datasets.cellxgene.cziscience.com/981bcf57-30cb-4a85-b905-e04373432fef.h5ad curated and distributed by CZ CELLxGENE Discover in Collection: https://cellxgene.cziscience.com/collections/e5f58829-1a66-40b5-a624-9046778e74f5\n",
      "\n",
      "Publication: https://doi.org/10.1126/science.abl4896 Dataset Version: https://datasets.cellxgene.cziscience.com/cb872c2c-64a4-405f-96c3-03124405cc6c.h5ad curated and distributed by CZ CELLxGENE Discover in Collection: https://cellxgene.cziscience.com/collections/e5f58829-1a66-40b5-a624-9046778e74f5\n"
     ]
    }
   ],
   "source": [
    "print(*set(slice_datasets[\"citation\"]), sep=\"\\n\\n\")"
   ]
  },
  {
   "cell_type": "code",
   "execution_count": 12,
   "id": "a064b74a-e1fc-4c7f-b197-f37ad1912196",
   "metadata": {},
   "outputs": [
    {
     "name": "stdout",
     "output_type": "stream",
     "text": [
      "The Tabula Sapiens Consortium* et al. (2022) Science\n"
     ]
    }
   ],
   "source": [
    "print(*set(slice_datasets[\"collection_doi_label\"]), sep=\"\\n\\n\")"
   ]
  },
  {
   "cell_type": "markdown",
   "id": "941c6f2d-6bc2-46c3-963e-e74335fe93f6",
   "metadata": {},
   "source": [
    "### Via AnnData query"
   ]
  },
  {
   "cell_type": "code",
   "execution_count": 13,
   "id": "def31834-91c7-4497-86c4-21921fd773d6",
   "metadata": {},
   "outputs": [],
   "source": [
    "# Fetch an AnnData object\n",
    "adata = cellxgene_census.get_anndata(\n",
    "    census=census,\n",
    "    organism=\"homo_sapiens\",\n",
    "    measurement_name=\"RNA\",\n",
    "    obs_value_filter=\"tissue == 'cardiac atrium'\",\n",
    "    var_value_filter=\"feature_name == 'MYBPC3'\",\n",
    "    obs_column_names=[\"dataset_id\", \"cell_type\"],\n",
    ")"
   ]
  },
  {
   "cell_type": "code",
   "execution_count": 14,
   "id": "f9c20d12-3b11-4837-9479-79b37f3b280c",
   "metadata": {},
   "outputs": [],
   "source": [
    "# Get a citation string for the slice\n",
    "slice_datasets = datasets[datasets[\"dataset_id\"].isin(adata.obs[\"dataset_id\"])]"
   ]
  },
  {
   "cell_type": "code",
   "execution_count": 17,
   "id": "bc4385a8-9769-402e-9c89-dd22e68a372b",
   "metadata": {},
   "outputs": [
    {
     "data": {
      "text/html": [
       "<div>\n",
       "<style scoped>\n",
       "    .dataframe tbody tr th:only-of-type {\n",
       "        vertical-align: middle;\n",
       "    }\n",
       "\n",
       "    .dataframe tbody tr th {\n",
       "        vertical-align: top;\n",
       "    }\n",
       "\n",
       "    .dataframe thead th {\n",
       "        text-align: right;\n",
       "    }\n",
       "</style>\n",
       "<table border=\"1\" class=\"dataframe\">\n",
       "  <thead>\n",
       "    <tr style=\"text-align: right;\">\n",
       "      <th></th>\n",
       "      <th>soma_joinid</th>\n",
       "      <th>citation</th>\n",
       "      <th>collection_id</th>\n",
       "      <th>collection_name</th>\n",
       "      <th>collection_doi</th>\n",
       "      <th>collection_doi_label</th>\n",
       "      <th>dataset_id</th>\n",
       "      <th>dataset_version_id</th>\n",
       "      <th>dataset_title</th>\n",
       "      <th>dataset_h5ad_path</th>\n",
       "      <th>dataset_total_cell_count</th>\n",
       "    </tr>\n",
       "  </thead>\n",
       "  <tbody>\n",
       "    <tr>\n",
       "      <th>413</th>\n",
       "      <td>413</td>\n",
       "      <td>Publication: https://doi.org/10.1126/science.a...</td>\n",
       "      <td>e5f58829-1a66-40b5-a624-9046778e74f5</td>\n",
       "      <td>Tabula Sapiens</td>\n",
       "      <td>10.1126/science.abl4896</td>\n",
       "      <td>The Tabula Sapiens Consortium* et al. (2022) S...</td>\n",
       "      <td>e6a11140-2545-46bc-929e-da243eed2cae</td>\n",
       "      <td>dbcbe0a6-918a-4440-9a56-6d03f0f22df5</td>\n",
       "      <td>Tabula Sapiens - Heart</td>\n",
       "      <td>e6a11140-2545-46bc-929e-da243eed2cae.h5ad</td>\n",
       "      <td>11505</td>\n",
       "    </tr>\n",
       "    <tr>\n",
       "      <th>572</th>\n",
       "      <td>572</td>\n",
       "      <td>Publication: https://doi.org/10.1126/science.a...</td>\n",
       "      <td>e5f58829-1a66-40b5-a624-9046778e74f5</td>\n",
       "      <td>Tabula Sapiens</td>\n",
       "      <td>10.1126/science.abl4896</td>\n",
       "      <td>The Tabula Sapiens Consortium* et al. (2022) S...</td>\n",
       "      <td>5a11f879-d1ef-458a-910c-9b0bdfca5ebf</td>\n",
       "      <td>07900e47-7ab4-48d4-a26e-abdd010f4bbf</td>\n",
       "      <td>Tabula Sapiens - Endothelial</td>\n",
       "      <td>5a11f879-d1ef-458a-910c-9b0bdfca5ebf.h5ad</td>\n",
       "      <td>31691</td>\n",
       "    </tr>\n",
       "    <tr>\n",
       "      <th>718</th>\n",
       "      <td>718</td>\n",
       "      <td>Publication: https://doi.org/10.1126/science.a...</td>\n",
       "      <td>e5f58829-1a66-40b5-a624-9046778e74f5</td>\n",
       "      <td>Tabula Sapiens</td>\n",
       "      <td>10.1126/science.abl4896</td>\n",
       "      <td>The Tabula Sapiens Consortium* et al. (2022) S...</td>\n",
       "      <td>a68b64d8-aee3-4947-81b7-36b8fe5a44d2</td>\n",
       "      <td>cb872c2c-64a4-405f-96c3-03124405cc6c</td>\n",
       "      <td>Tabula Sapiens - Stromal</td>\n",
       "      <td>a68b64d8-aee3-4947-81b7-36b8fe5a44d2.h5ad</td>\n",
       "      <td>82478</td>\n",
       "    </tr>\n",
       "    <tr>\n",
       "      <th>745</th>\n",
       "      <td>745</td>\n",
       "      <td>Publication: https://doi.org/10.1126/science.a...</td>\n",
       "      <td>e5f58829-1a66-40b5-a624-9046778e74f5</td>\n",
       "      <td>Tabula Sapiens</td>\n",
       "      <td>10.1126/science.abl4896</td>\n",
       "      <td>The Tabula Sapiens Consortium* et al. (2022) S...</td>\n",
       "      <td>97a17473-e2b1-4f31-a544-44a60773e2dd</td>\n",
       "      <td>3149e7d3-1ae4-4b59-a54b-73e9f591b699</td>\n",
       "      <td>Tabula Sapiens - Epithelial</td>\n",
       "      <td>97a17473-e2b1-4f31-a544-44a60773e2dd.h5ad</td>\n",
       "      <td>104148</td>\n",
       "    </tr>\n",
       "    <tr>\n",
       "      <th>799</th>\n",
       "      <td>799</td>\n",
       "      <td>Publication: https://doi.org/10.1126/science.a...</td>\n",
       "      <td>e5f58829-1a66-40b5-a624-9046778e74f5</td>\n",
       "      <td>Tabula Sapiens</td>\n",
       "      <td>10.1126/science.abl4896</td>\n",
       "      <td>The Tabula Sapiens Consortium* et al. (2022) S...</td>\n",
       "      <td>c5d88abe-f23a-45fa-a534-788985e93dad</td>\n",
       "      <td>50a18e6a-797b-40bd-aa07-6ed50a1f2cf6</td>\n",
       "      <td>Tabula Sapiens - Immune</td>\n",
       "      <td>c5d88abe-f23a-45fa-a534-788985e93dad.h5ad</td>\n",
       "      <td>264824</td>\n",
       "    </tr>\n",
       "  </tbody>\n",
       "</table>\n",
       "</div>"
      ],
      "text/plain": [
       "     soma_joinid                                           citation  \\\n",
       "413          413  Publication: https://doi.org/10.1126/science.a...   \n",
       "572          572  Publication: https://doi.org/10.1126/science.a...   \n",
       "718          718  Publication: https://doi.org/10.1126/science.a...   \n",
       "745          745  Publication: https://doi.org/10.1126/science.a...   \n",
       "799          799  Publication: https://doi.org/10.1126/science.a...   \n",
       "\n",
       "                            collection_id collection_name  \\\n",
       "413  e5f58829-1a66-40b5-a624-9046778e74f5  Tabula Sapiens   \n",
       "572  e5f58829-1a66-40b5-a624-9046778e74f5  Tabula Sapiens   \n",
       "718  e5f58829-1a66-40b5-a624-9046778e74f5  Tabula Sapiens   \n",
       "745  e5f58829-1a66-40b5-a624-9046778e74f5  Tabula Sapiens   \n",
       "799  e5f58829-1a66-40b5-a624-9046778e74f5  Tabula Sapiens   \n",
       "\n",
       "              collection_doi  \\\n",
       "413  10.1126/science.abl4896   \n",
       "572  10.1126/science.abl4896   \n",
       "718  10.1126/science.abl4896   \n",
       "745  10.1126/science.abl4896   \n",
       "799  10.1126/science.abl4896   \n",
       "\n",
       "                                  collection_doi_label  \\\n",
       "413  The Tabula Sapiens Consortium* et al. (2022) S...   \n",
       "572  The Tabula Sapiens Consortium* et al. (2022) S...   \n",
       "718  The Tabula Sapiens Consortium* et al. (2022) S...   \n",
       "745  The Tabula Sapiens Consortium* et al. (2022) S...   \n",
       "799  The Tabula Sapiens Consortium* et al. (2022) S...   \n",
       "\n",
       "                               dataset_id  \\\n",
       "413  e6a11140-2545-46bc-929e-da243eed2cae   \n",
       "572  5a11f879-d1ef-458a-910c-9b0bdfca5ebf   \n",
       "718  a68b64d8-aee3-4947-81b7-36b8fe5a44d2   \n",
       "745  97a17473-e2b1-4f31-a544-44a60773e2dd   \n",
       "799  c5d88abe-f23a-45fa-a534-788985e93dad   \n",
       "\n",
       "                       dataset_version_id                 dataset_title  \\\n",
       "413  dbcbe0a6-918a-4440-9a56-6d03f0f22df5        Tabula Sapiens - Heart   \n",
       "572  07900e47-7ab4-48d4-a26e-abdd010f4bbf  Tabula Sapiens - Endothelial   \n",
       "718  cb872c2c-64a4-405f-96c3-03124405cc6c      Tabula Sapiens - Stromal   \n",
       "745  3149e7d3-1ae4-4b59-a54b-73e9f591b699   Tabula Sapiens - Epithelial   \n",
       "799  50a18e6a-797b-40bd-aa07-6ed50a1f2cf6       Tabula Sapiens - Immune   \n",
       "\n",
       "                             dataset_h5ad_path  dataset_total_cell_count  \n",
       "413  e6a11140-2545-46bc-929e-da243eed2cae.h5ad                     11505  \n",
       "572  5a11f879-d1ef-458a-910c-9b0bdfca5ebf.h5ad                     31691  \n",
       "718  a68b64d8-aee3-4947-81b7-36b8fe5a44d2.h5ad                     82478  \n",
       "745  97a17473-e2b1-4f31-a544-44a60773e2dd.h5ad                    104148  \n",
       "799  c5d88abe-f23a-45fa-a534-788985e93dad.h5ad                    264824  "
      ]
     },
     "execution_count": 17,
     "metadata": {},
     "output_type": "execute_result"
    }
   ],
   "source": [
    "slice_datasets.head()"
   ]
  },
  {
   "cell_type": "code",
   "execution_count": 15,
   "id": "2d9b2a11-2f48-43a5-8955-759019ce6bed",
   "metadata": {},
   "outputs": [
    {
     "name": "stdout",
     "output_type": "stream",
     "text": [
      "Publication: https://doi.org/10.1126/science.abl4896 Dataset Version: https://datasets.cellxgene.cziscience.com/3149e7d3-1ae4-4b59-a54b-73e9f591b699.h5ad curated and distributed by CZ CELLxGENE Discover in Collection: https://cellxgene.cziscience.com/collections/e5f58829-1a66-40b5-a624-9046778e74f5\n",
      "\n",
      "Publication: https://doi.org/10.1126/science.abl4896 Dataset Version: https://datasets.cellxgene.cziscience.com/dbcbe0a6-918a-4440-9a56-6d03f0f22df5.h5ad curated and distributed by CZ CELLxGENE Discover in Collection: https://cellxgene.cziscience.com/collections/e5f58829-1a66-40b5-a624-9046778e74f5\n",
      "\n",
      "Publication: https://doi.org/10.1126/science.abl4896 Dataset Version: https://datasets.cellxgene.cziscience.com/07900e47-7ab4-48d4-a26e-abdd010f4bbf.h5ad curated and distributed by CZ CELLxGENE Discover in Collection: https://cellxgene.cziscience.com/collections/e5f58829-1a66-40b5-a624-9046778e74f5\n",
      "\n",
      "Publication: https://doi.org/10.1126/science.abl4896 Dataset Version: https://datasets.cellxgene.cziscience.com/50a18e6a-797b-40bd-aa07-6ed50a1f2cf6.h5ad curated and distributed by CZ CELLxGENE Discover in Collection: https://cellxgene.cziscience.com/collections/e5f58829-1a66-40b5-a624-9046778e74f5\n",
      "\n",
      "Publication: https://doi.org/10.1126/science.abl4896 Dataset Version: https://datasets.cellxgene.cziscience.com/981bcf57-30cb-4a85-b905-e04373432fef.h5ad curated and distributed by CZ CELLxGENE Discover in Collection: https://cellxgene.cziscience.com/collections/e5f58829-1a66-40b5-a624-9046778e74f5\n",
      "\n",
      "Publication: https://doi.org/10.1126/science.abl4896 Dataset Version: https://datasets.cellxgene.cziscience.com/cb872c2c-64a4-405f-96c3-03124405cc6c.h5ad curated and distributed by CZ CELLxGENE Discover in Collection: https://cellxgene.cziscience.com/collections/e5f58829-1a66-40b5-a624-9046778e74f5\n"
     ]
    }
   ],
   "source": [
    "print(*set(slice_datasets[\"citation\"]), sep=\"\\n\\n\")"
   ]
  },
  {
   "cell_type": "code",
   "execution_count": 16,
   "id": "1eea0b2e-831e-405b-be00-aa58ba190a1f",
   "metadata": {},
   "outputs": [
    {
     "name": "stdout",
     "output_type": "stream",
     "text": [
      "The Tabula Sapiens Consortium* et al. (2022) Science\n"
     ]
    }
   ],
   "source": [
    "print(*set(slice_datasets[\"collection_doi_label\"]), sep=\"\\n\\n\")"
   ]
  },
  {
   "cell_type": "markdown",
   "id": "f6988186-5294-43f9-bfe5-2ac255aa0b26",
   "metadata": {},
   "source": [
    "And don't forget to close the Census handle"
   ]
  },
  {
   "cell_type": "code",
   "execution_count": 18,
   "id": "f96b1c3b-4a2a-469a-9ded-1c5ff98b84aa",
   "metadata": {},
   "outputs": [],
   "source": [
    "census.close()"
   ]
  },
  {
   "cell_type": "code",
   "execution_count": null,
   "id": "79d91678-7a9a-4cdf-8ae9-2ea1650a713d",
   "metadata": {},
   "outputs": [],
   "source": []
  }
 ],
 "metadata": {
  "kernelspec": {
   "display_name": "py_scvi",
   "language": "python",
   "name": "py_scvi"
  },
  "language_info": {
   "codemirror_mode": {
    "name": "ipython",
    "version": 3
   },
   "file_extension": ".py",
   "mimetype": "text/x-python",
   "name": "python",
   "nbconvert_exporter": "python",
   "pygments_lexer": "ipython3",
   "version": "3.10.14"
  }
 },
 "nbformat": 4,
 "nbformat_minor": 5
}
