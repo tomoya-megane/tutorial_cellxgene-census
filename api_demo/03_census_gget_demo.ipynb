{
 "cells": [
  {
   "attachments": {},
   "cell_type": "markdown",
   "metadata": {
    "id": "YkHzXhTHvXUc"
   },
   "source": [
    "# Querying data using the gget cellxgene module\n",
    "\n",
    "*By Laura Luebbert, lauralubbert@gmail.com.*\n",
    "\n",
    "[gget](https://github.com/pachterlab/gget) is a free, open-source command-line tool and Python package that enables efficient querying of genomic databases. gget consists of a collection of separate but interoperable modules, each designed to facilitate one type of database querying in a single line of code.\n",
    "\n",
    "The [gget cellxgene](https://pachterlab.github.io/gget/en/cellxgene.html) module builds on the [CZ CELLxGENE Discover Census](https://chanzuckerberg.github.io/cellxgene-census/) to query data from [CZ CELLxGENE Discover](https://cellxgene.cziscience.com/). This notebook briefly introduces the [gget cellxgene](https://pachterlab.github.io/gget/en/cellxgene.html) module by providing one simple example for each supported query type.\n",
    "\n",
    "If you use gget cellxgene in a publication, please [cite gget](https://pachterlab.github.io/gget/en/cite.html) in addition to [citing CZ CELLxGENE](https://cellxgene.cziscience.com/docs/08__Cite%20cellxgene%20in%20your%20publications).\n",
    "\n",
    "You can also [open this notebook in Google Colab](https://colab.research.google.com/github/chanzuckerberg/cellxgene-census/blob/main/api/python/notebooks/api_demo/census_gget_demo.ipynb).\n",
    "\n",
    "**Contents**  \n",
    "\n",
    "1. Install gget.\n",
    "2. Fetch an [AnnData](https://anndata.readthedocs.io/en/latest/) object by selecting gene(s), tissue(s) and cell type(s).\n",
    "3. Plot a dot plot similar to those shown on the  CZ CELLxGENE Discover [Gene Expression](https://cellxgene.cziscience.com/gene-expression).\n",
    "4. Fetch only cell metadata (corresponds to AnnData.obs).\n",
    "5. Use [gget cellxgene](https://pachterlab.github.io/gget/en/cellxgene.html) from the command line."
   ]
  },
  {
   "attachments": {},
   "cell_type": "markdown",
   "metadata": {
    "id": "gaPshWPxwzo9"
   },
   "source": [
    "## Install gget and set up cellxgene module"
   ]
  },
  {
   "cell_type": "code",
   "execution_count": null,
   "metadata": {},
   "outputs": [],
   "source": [
    "# # The cellxgene module was added to gget in version 0.25.7\n",
    "# !pip install -q gget >=0.25.7"
   ]
  },
  {
   "cell_type": "code",
   "execution_count": null,
   "metadata": {},
   "outputs": [],
   "source": [
    "import gget"
   ]
  },
  {
   "cell_type": "code",
   "execution_count": null,
   "metadata": {
    "id": "bKTgv7hCQxS1"
   },
   "outputs": [],
   "source": [
    "gget.setup(\"cellxgene\")"
   ]
  },
  {
   "cell_type": "code",
   "execution_count": null,
   "metadata": {
    "colab": {
     "base_uri": "https://localhost:8080/"
    },
    "id": "f4hLtaBPToWG",
    "outputId": "e81057ba-578a-464b-caa5-32edcdd206b4"
   },
   "outputs": [],
   "source": [
    "# Display all options of the cellxgene gget module\n",
    "help(gget.cellxgene)"
   ]
  },
  {
   "attachments": {},
   "cell_type": "markdown",
   "metadata": {
    "id": "6j6vqbOXw9X3"
   },
   "source": [
    "## Fetch an [AnnData](https://anndata.readthedocs.io/en/latest/) object by selecting gene(s), tissue(s) and cell type(s)\n",
    "You can use all of the options listed above to filter for data of interest. Here, we will demonstrate the module by fetching a small dataset containing only three genes and two lung cell types:"
   ]
  },
  {
   "cell_type": "code",
   "execution_count": null,
   "metadata": {
    "colab": {
     "base_uri": "https://localhost:8080/"
    },
    "id": "OnDHwjjSQ2uD",
    "outputId": "9cdb068d-300a-4cdc-f0cb-cf62d0eb3097"
   },
   "outputs": [],
   "source": [
    "# Fetch AnnData object based on specified genes, tissue and cell types\n",
    "adata = gget.cellxgene(\n",
    "    gene=[\"ACE2\", \"ABCA1\", \"SLC5A1\"], tissue=\"lung\", cell_type=[\"mucus secreting cell\", \"neuroendocrine cell\"]\n",
    ")"
   ]
  },
  {
   "attachments": {},
   "cell_type": "markdown",
   "metadata": {
    "id": "6krDnFMLyeRl"
   },
   "source": [
    "Let's look at some of the features of the AnnData object we just fetched:"
   ]
  },
  {
   "cell_type": "code",
   "execution_count": null,
   "metadata": {
    "colab": {
     "base_uri": "https://localhost:8080/"
    },
    "id": "MqZM-2uNTt1L",
    "outputId": "7b14f3e9-8264-428d-b6d4-3320e17776d5"
   },
   "outputs": [],
   "source": [
    "adata"
   ]
  },
  {
   "attachments": {},
   "cell_type": "markdown",
   "metadata": {
    "id": "Yl34ulk7ziH8"
   },
   "source": [
    "A few thousand cells from CZ CELLxGENE Discover matched the filters specified above and their ACE2, ABCA1, and SLC5A1 expression matrix in lung mucus secreting and neuroendocrine cells was fetched. The `.var` and `.obs` layers contain additional information about each gene and cell, respectively:"
   ]
  },
  {
   "cell_type": "code",
   "execution_count": null,
   "metadata": {
    "colab": {
     "base_uri": "https://localhost:8080/",
     "height": 143
    },
    "id": "qzdc41PdTwDN",
    "outputId": "a1a48a86-14bc-4559-ab3b-19d7f29fa153"
   },
   "outputs": [],
   "source": [
    "adata.var"
   ]
  },
  {
   "cell_type": "code",
   "execution_count": null,
   "metadata": {
    "colab": {
     "base_uri": "https://localhost:8080/",
     "height": 424
    },
    "id": "lIebiJ0CTxDn",
    "outputId": "dcf64476-daf1-4355-ab77-724e54cbacbe"
   },
   "outputs": [],
   "source": [
    "adata.obs"
   ]
  },
  {
   "attachments": {},
   "cell_type": "markdown",
   "metadata": {
    "id": "e4zaccqDUVon"
   },
   "source": [
    "## Plot a dot plot similar to those shown on the  CZ CELLxGENE Discover [Gene Expression](https://cellxgene.cziscience.com/gene-expression)\n",
    "Using the data we just fetched, we can plot a dot plot using [scanpy](https://scanpy.readthedocs.io/en/stable/):"
   ]
  },
  {
   "cell_type": "code",
   "execution_count": null,
   "metadata": {
    "id": "qGHq2q3wT3gw"
   },
   "outputs": [],
   "source": [
    "import scanpy as sc\n",
    "\n",
    "# retina increases the resolution of plots displayed in notebooks\n",
    "%config InlineBackend.figure_format=\"retina\""
   ]
  },
  {
   "cell_type": "code",
   "execution_count": null,
   "metadata": {
    "colab": {
     "base_uri": "https://localhost:8080/",
     "height": 283
    },
    "id": "p1FTT-OiUa4k",
    "outputId": "ca64020b-6c2e-4f61-973f-657bbefa078c"
   },
   "outputs": [],
   "source": [
    "sc.pl.dotplot(adata, adata.var[\"feature_name\"].values, groupby=\"cell_type\", gene_symbols=\"feature_name\")"
   ]
  },
  {
   "attachments": {},
   "cell_type": "markdown",
   "metadata": {
    "id": "lIqvA3pc0iJA"
   },
   "source": [
    "## Fetch only cell metadata (corresponds to AnnData.obs)\n",
    "By setting `meta_only=True` and again filtering by the cell metadata attributes listed above, you can also fetch only the cell metadata:"
   ]
  },
  {
   "cell_type": "code",
   "execution_count": null,
   "metadata": {
    "colab": {
     "base_uri": "https://localhost:8080/",
     "height": 424
    },
    "id": "RQJyn-mKU_oh",
    "outputId": "feb8e251-d619-491b-88a0-2cda9adc2af6"
   },
   "outputs": [],
   "source": [
    "df = gget.cellxgene(\n",
    "    meta_only=True,\n",
    "    census_version=\"2023-05-15\",  # Specify Census version for reproducibility over time\n",
    "    gene=\"ENSMUSG00000015405\",\n",
    "    ensembl=True,  # Setting 'ensembl=True' here since the gene is passed as an Ensembl ID\n",
    "    tissue=\"lung\",\n",
    "    species=\"mus_musculus\",  # Let's switch up the species\n",
    ")\n",
    "\n",
    "df"
   ]
  },
  {
   "attachments": {},
   "cell_type": "markdown",
   "metadata": {
    "id": "2QjJEJdS-He7"
   },
   "source": [
    "## Use [gget cellxgene](https://pachterlab.github.io/gget/en/cellxgene.html) from the command line\n",
    "All gget modules support use from the command line. Note that the command line interface requires the `-o/--out` argument to specify a path to save the fetched data. Here are the command line versions of the queries demonstrated above:"
   ]
  },
  {
   "cell_type": "code",
   "execution_count": null,
   "metadata": {
    "id": "hDcS0fZ--BnB"
   },
   "outputs": [],
   "source": [
    "# # Fetch AnnData object based on specified genes, tissue and cell types\n",
    "# !gget cellxgene --gene ACE2 ABCA1 SLC5A1 --tissue lung --cell_type 'mucus secreting cell' 'neuroendocrine cell' -o example_adata.h5ad"
   ]
  },
  {
   "cell_type": "code",
   "execution_count": null,
   "metadata": {
    "id": "f683tvIg-oEz"
   },
   "outputs": [],
   "source": [
    "# # Fetch only metadata\n",
    "# !gget cellxgene --meta_only --gene ENSMUSG00000015405 --ensembl --tissue lung --species mus_musculus -o example_meta.csv"
   ]
  }
 ],
 "metadata": {
  "colab": {
   "provenance": []
  },
  "kernelspec": {
   "display_name": "py_scvi",
   "language": "python",
   "name": "py_scvi"
  },
  "language_info": {
   "codemirror_mode": {
    "name": "ipython",
    "version": 3
   },
   "file_extension": ".py",
   "mimetype": "text/x-python",
   "name": "python",
   "nbconvert_exporter": "python",
   "pygments_lexer": "ipython3",
   "version": "3.10.14"
  }
 },
 "nbformat": 4,
 "nbformat_minor": 4
}
